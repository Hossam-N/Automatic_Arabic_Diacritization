{
 "cells": [
  {
   "cell_type": "code",
   "execution_count": 23,
   "metadata": {},
   "outputs": [],
   "source": [
    "import os\n",
    "import re\n",
    "import torch\n",
    "import helper_file as hf\n",
    "from tqdm import tqdm\n",
    "import torch.nn as nn"
   ]
  },
  {
   "cell_type": "code",
   "execution_count": 30,
   "metadata": {},
   "outputs": [],
   "source": [
    "def split_arabic_sentences(text):\n",
    "   \n",
    "    pattern = r'(?<=[.؟!,؛])'\n",
    "\n",
    "    # Split the text into sentences based on the pattern\n",
    "    sentences = re.split(pattern, text)\n",
    "    # remove punctuations\n",
    "    sentences = [re.sub(r'[.؟!،؛]', '', sent) for sent in sentences]\n",
    "    sentences = [re.sub(r'\\s+', ' ', sent) for sent in sentences]\n",
    "    sentences = filter(lambda sentences: sentences.strip(), sentences)\n",
    "\n",
    "    return sentences \n",
    "\n",
    "\n",
    "def append_to_file(file_path, content):\n",
    "    with open(file_path, 'a', encoding='utf-8') as file:\n",
    "        file.write(content.strip() + '\\n')\n",
    "\n",
    "\n",
    "arabic_letters = hf.read_pickle('Delivery/arabic_letters.pickle')\n",
    "\n",
    "diacritics = hf.read_pickle('Delivery/diacritics.pickle')\n",
    "\n",
    "diacritics_to_id = hf.read_pickle('Delivery/diacritics2id.pickle')\n",
    "\n",
    "chars = sorted(arabic_letters) \n",
    "char_to_idx = {char: idx + 1 for idx, char in enumerate(chars)}  # Assigning 0 for padding\n",
    "char_to_idx[' '] = 0\n",
    "idx_to_char = {idx: char for char, idx in char_to_idx.items()}\n",
    "idx_to_char[0] = ' ' \n",
    "\n",
    "\n",
    "def extract_data_from_id_csv(test_input, predictions, id_to_diacritics, idx_to_char):\n",
    "    id = 0  \n",
    "    with open('Delivery/predictions.csv', 'w', encoding='utf-8') as file:\n",
    "        file.write('ID,label\\n')\n",
    "\n",
    "    to_csv = []    \n",
    "\n",
    "    for k,test in enumerate(test_input):\n",
    "        for j,batch in enumerate(test):\n",
    "            string = ''\n",
    "            for i,char in enumerate(batch):\n",
    "                if test[j][i].item() != 0:\n",
    "                    to_csv_string = str(id) + ',' + str(predictions[k][j][i].item()) + '\\n'\n",
    "                    to_csv.append(to_csv_string)\n",
    "                    id += 1\n",
    "                string += (idx_to_char[test[j][i].item()] + id_to_diacritics[predictions[k][j][i].item()])\n",
    "\n",
    "                # output a csv file that has an iterator in first column and the diacritic in the second column\n",
    "            print(string)\n",
    "     \n",
    "    # for item in to_csv:\n",
    "    #     append_to_file('Delivery/predictions.csv', item)        \n",
    " \n",
    "        \n",
    "id_to_diacritics = {}\n",
    "for key, value in diacritics_to_id.items():\n",
    "    id_to_diacritics[value] = key\n",
    "\n"
   ]
  },
  {
   "cell_type": "code",
   "execution_count": 31,
   "metadata": {},
   "outputs": [],
   "source": [
    "class Test_Dataset(torch.utils.data.Dataset):\n",
    "\n",
    "  def __init__(self,x,pad):\n",
    "    \"\"\"\n",
    "    This is the constructor of the NERDataset\n",
    "    Inputs:\n",
    "    - x: a list of lists where each list contains the ids of the tokens\n",
    "    - pad: the id of the <PAD> token (to be used for padding all sentences and labels to have the same length)\n",
    "    \"\"\"\n",
    " \n",
    "    max_size = max([len(i) for i in x]) # find the max length of the sentences \n",
    "    print('The max size is', max_size)\n",
    "    self.x = torch.tensor([i + [pad] * (max_size - len(i)) for i in x]) # pad the sentences with <PAD> token\n",
    "\n",
    "  def __len__(self):\n",
    "    return len(self.x)\n",
    "\n",
    "  def __getitem__(self, idx):\n",
    "    return self.x[idx]\n",
    "  \n",
    "  \n",
    "class Tashkeel(nn.Module):\n",
    "  def __init__(self, vocab_size=37, embedding_dim=37, hidden_size=50, n_classes=15):\n",
    "    \"\"\"\n",
    "    character level tashkeel model\n",
    "    The constructor of our NER model\n",
    "    Inputs:\n",
    "    - vocab_size: the number of unique characters in the dataset\n",
    "    - embedding_dim: the embedding dimension\n",
    "    - n_classes: the number of final classes (tags)\n",
    "    \"\"\"\n",
    "    super(Tashkeel, self).__init__()\n",
    "    self.embedding = nn.Embedding(vocab_size, embedding_dim)\n",
    "    \n",
    "    self.lstm = nn.LSTM(embedding_dim, hidden_size, batch_first=True,bidirectional=True) \n",
    "    self.linear = nn.Linear(embedding_dim * 2, n_classes)\n",
    "\n",
    "  def forward(self, sentences):\n",
    "    \"\"\"\n",
    "    This function does the forward pass of our model\n",
    "    Inputs:\n",
    "    - sentences: tensor of shape (batch_size, max_length)\n",
    "\n",
    "    Returns:\n",
    "    - final_output: tensor of shape (batch_size, max_length, n_classes)\n",
    "    \"\"\"\n",
    "    final_output = self.embedding(sentences)\n",
    "    final_output, _ = self.lstm(final_output)\n",
    "    final_output = self.linear(final_output)\n",
    "    return final_output\n",
    "\n",
    "\n",
    "def test_evaluation(model,test_dataset,batch_size=5):\n",
    "    test_dataloader = torch.utils.data.DataLoader(test_dataset, batch_size=batch_size)\n",
    "\n",
    "    # GPU Configuration\n",
    "    use_cuda = torch.cuda.is_available()\n",
    "    device = torch.device(\"cuda\" if use_cuda else \"cpu\")\n",
    "    if use_cuda:\n",
    "        model = model.cuda()\n",
    "\n",
    "    all_predictions = []\n",
    "    all_test_inputs = []\n",
    "    with torch.no_grad():\n",
    "        for test_input in tqdm(test_dataloader):\n",
    "            # print(test_input.shape)\n",
    "            # Move the test input to the device\n",
    "            test_input = test_input.to(device)\n",
    "\n",
    "            # Perform the forward pass\n",
    "            output = model(test_input)\n",
    "\n",
    "            # Get predicted labels\n",
    "            predicted_labels = output.argmax(dim=2)\n",
    "            \n",
    "\n",
    "            all_test_inputs.append(test_input)\n",
    "            all_predictions.append(predicted_labels)\n",
    "\n",
    "    return all_test_inputs,all_predictions"
   ]
  },
  {
   "cell_type": "code",
   "execution_count": 32,
   "metadata": {},
   "outputs": [
    {
     "name": "stdout",
     "output_type": "stream",
     "text": [
      "The max size is 572\n"
     ]
    },
    {
     "name": "stderr",
     "output_type": "stream",
     "text": [
      "  0%|          | 0/3 [00:00<?, ?it/s]"
     ]
    },
    {
     "name": "stderr",
     "output_type": "stream",
     "text": [
      "100%|██████████| 3/3 [00:00<00:00, 113.12it/s]"
     ]
    },
    {
     "name": "stdout",
     "output_type": "stream",
     "text": [
      "لَيْسَ لِلْوَكِيلِ بِالْقَبْضِ أَنْ يَبْرَأَ الْمَدَينِ أَوْ يَهَبَ الدَّيْنِ لَهُ أَوْ يَأْخُذُ رَهُنًا مِنْ الْمَدَينِ فِي مُقَابَلِ الدَّيْنِ أَوْ يُقْبَلُ إحْالَتَهُ عَلَى شَخْصٍ آخَرَ لَكِنَّ لَهُ أَنْ يَأْخُذَ كَفِيلًا لَكِنْ لَيْسَ لَهُ أَنْ يَأْخُذَ كَفِيلًا بِشَرْطِ بَرِاءَةِ الْأَصِيلِ انْظُرْ الْمَادَّةِ الْأَنْقْرُوِيُّ الطَّحَطَاوِيُّ وَصَرَّةَ الْفَتَاوَى الْبَحْرِ                                                                                                                                                                                                                                                                                                                                                          \n",
      "قَوْلُهُ وَيَقَعُ فِي بَعْضِ النَّسْخِ بِمَنْفَعَةٍ وَمُعَيَّنٌ أَيْ أَوْصَى بِمَجْمُوعِ شَيْئَينٍ بِمَنْفَعَةِ شَيْءٍ وَبِمُعَينٍ وَقَوْلُهُ وَلَيْسَ ذَلِكَ بِصَحِيحٍ كَأَنَّ عَدَمَ الصِّحَّةِ مِنْ جِهَةٍ أَنَّ هَذِهِ الْمَسْأَلَةَ فِيهَا نَصَّ بِهَذَا الْحُكْمِ الَّذِي أَشَارَ إلَيْهِ الْمُصَنِّفُ بِقَوْلِهِ وَإِنْ أَوْصَى بِمَنْفَعَةٍ مُعَيَّنٍ وَبَعْضْ شَيُوخِنَا عَلَلَ عَدَمُ الصِّحَّةِ بِقَوْلِهِ لِمَا عَلَمَتْ مِنْ اخْتِلَافِ الْحُكْمِ بَيْنَ الْإِيصَاءِ بِمَنْفَعَةِ الْمُعَيَّنِ وَنَفْسِ الْمُعَيَّنِ وَوَقَعَ التَّنْظِيرُ وَهُوَ أَنَّهُ هَلْ مِنْ مَنْفَعَةِ الْمُعَيَّنِ عَبْدُهُ أَوْ دَارِهِ حَيْثُ لَيْسَ لَهُ سَوَاهُ أَوْ لَيْسَ مِنْ التَّعْيِينِ                                                                                                                                                                                               \n",
      "وَمَا ثَبَتَ بِظُنِّي سَاقطٍ مِنْ قَسْمِ الْمَعْلُومِ                                                                                                                                                                                                                                                                                                                                                                                                                                                                                                                                                            \n",
      "حَدَّثَنَا عُثْمَانُ بْنُ عُمَرَ قَالَ حَدَّثَنَا مَالِكٌ عَنْ الزُّهْرِيِّ عَنْ عُرْوَةٍ عَنْ عَائِشَةَ أَنَّ رَسُولَ اللَّهِ صَلَّى اللَّهُ عَلَيْهِ وَسَلَّمَ قَالَ الْوَلَدَ لِلْفَرَاشِ وَلِلْعَاهِرِ الْحَجْرِ لِأَنَّ الْحَمَلَ فِيهَا لَا يُفِيدُ أُمَيَّةَ الْوَلَدِ فَإِنْ كَانَتْ الْأَمَةُ فَرَاشًا لَهُ بِأَنْ أَقَرَّ بِوَطِئِهَا لَحَقِّهُ عِنْدَ الْإِمْكَانِ بِالْفِرَاشِ مِنْ غَيْرِ اسْتْلْحَاقٍ لِخَبَرِ الْوَلَدِ لِلْفَرَاشِ وَتَصِيرَ أُمْ وَلَدٍ وَإِنْ كَانَتْ مُزَوَّجَةٌ فَالْوَلَدَ لِلزَّوْجِ عِنْدَ إمْكَانِ كَوْنِهِ مِنْهُ لِأَنَّ الْفَرَاش لَهُ وَاسْتْلْحَاقَ السَّيِّدِ لَهُ حِينَئِذٍ بَاطِلٌ لِلْحَوْقِهِ بِالزَّوْجِ شَرَعْاً                                                                                                                                                                                                    \n",
      "كَذَلِكَ لَوْ تَفْرَغَ الْوَكِيلُ أَوَّلًا وَالْمُوَكِّلُ بَعْدَهُ فَلَا يُعْتَبَرُ فَرَاغِ الْمُوَكِّلِ                                                                                                                                                                                                                                                                                                                                                                                                                                                                                                                                 \n",
      "لِأَنَّ الْأَرَاضِي قَدْ خَرَجَتْ مَنْ تَصَرُّفِ الْمُوَكِّلِ بِالْفَرَاغِ الْأَوَّلُ وَإِذَا لَمْ يَعْلَمْ أَيْ الْفْرَاغِيْنَ كَانَ الْمُقَدَّمُ مِنْهُمَا اعْتَبَرَ فَرَاغ الْمُوَكِّلِ هُوَ الْمُقَدَّمُ وَالْوَكِيلُ بِالْفَرَاغِ عَلَى الْإِطْلَاقِ لَهُ أَنْ يَتَفَرَّغَ بِالْأَرَاضِيِ بِالثَّمَنِ الَّذِي يرَاهُ مُنْاسِبًا كَثِيرًا كَانَ أُمَّ قلِيلًا انْظُرْ الْمَادَّةَ وَلَيْسَ لِمْوَكِّلِهِ أَنْ يَقُولَ لَا أَقْبَلَ هَذَا الْفَرَاغُ لَكِنْ لَوْ قَالَ الْمُوَكِّلُ تَفْرَغُ بِكَذَا فَلَيْسَ لِلْوَكِيلِ التَّفْرَغِ بِأَنَقْصِ وَإِنْ فِعَلَ كَانَ مَوْقُوفًا عَلَى إجَازَةٍ مُوَكِّلِهِ                                                                                                                                                                                                                               \n",
      "قَوْلُهُ لَمْ يَقْتَرِضْ أَيْ لَا يَجُوزُ وَلِلْوَارِثِ إنْ شَاءَ فَلَا يُجْبُرُ عَلَيْهِ وَإِذَا لَمْ يَعْمَلْ فَلِلْمَالِكِ الْفَسْخِ                                                                                                                                                                                                                                                                                                                                                                                                                                                                                                            \n",
      "وَرُوِيَ عَنْ الزُّهْرِيِّ أَنَّهَّا تُوَفِّيَتُ بَعْدَهُ بِثَلَاثَةِ أَشْهَرٍ وَرُوِيَ عَنْ ابْنِ أَبِي ملِيكَةَ عَنْ عَائِشَةَ قَالَتْ كَانَ بَيْنَهَا وَبَيْنَ أَبِيهَا شَهَرَانٌ وَهَذَا غَرَيبقَال فِي الْفُرُوعِ وَلَهُ أَنْ يَسَكَتْ حَتَّى يَبْدَأَ                                                                                                                                                                                                                                                                                                                                                                                                                                       \n",
      "قَوْلُهُ وَالْوَقْفُ لَا يُعَار وَلَا يرْهَنُ أَقَولُ هَذَا قَدْ تَقَدَّمَ أَوَّلْ الْكِتَابِ إلَّا أَنَّهُ أَعَادَهُ لِيَرْتَبُ عَلَيْهِ وُجُوبُ الْأَجْرِ بِسُكْنَى الْمُرْتَهِنِ وَحِينَئِذٍ كَانَ عَلَيْهِ أَنْ يُبَينَ حُكُمْ سُكْنَى الْمْسْتَعِيرِ إلَّا أَنَّهُ يُؤْخَذُ مِمَّا بَعْدَهُ                                                                                                                                                                                                                                                                                                                                                                                                                  \n",
      "وَلَوْ وَكَّلَّ فِيهِ بِصَرِيحٍ بِأَنْ قَالَ لَهُ طَلَقُّهَا أَوْ وَكَلَّتَكَ أَنْ تَطْلَقَهَا وَنَحْوِهُ لِأَنَّهُ حَيْثُ أَتَى بِالْكِنَايَةِ مَعَ النِّيَّةِ صَدَّقَ عَلَيْهِ أَنَّهُ طَلَقَهَا وَلَفْظَ أَمَرٍ وَاخْتِيَارٌ وَطَلَاقٍ لِلِتَّرَاخِي فِي حَقِّ وَكِيلٍ فَإِذَا قَالَ لَهُ أَمَرَ فَلَانَةَ بَيَدِكْ أَوْ اخْتَرِ طَلَاقُهَا أَوْ طَلَقَهَا مِلْكَ عَلَى التَّرَاخِي وَتَقَدَّمَ بَعْضُ ذَلِكَ فِي آخرِ كِتَابِ الطَّلَاقِ وَوَجَبَ عَلَى النَّبِيِّ صَلَّى اللَّهُ عَلَيْهِ وَسَلَّمَ تَخْيِيرُ نِسَائِهِ وَتَقَدَّمَ فِي الْخْصَائِصِ وَخَيَرَهَنَّ وَبَدَأْ بِعَائِشَةَ وَتَقَدَّمَ قَرَيباً                                                                                                                                                                                                                                   \n"
     ]
    },
    {
     "name": "stderr",
     "output_type": "stream",
     "text": [
      "\n"
     ]
    },
    {
     "name": "stdout",
     "output_type": "stream",
     "text": [
      "وَانْظُرْ هَلْ مِنْ تَعْيِينِ الزَّمَانِ التَّقْيِيدِ بِشَهْرِ دُونَ تَعْيِينِهِ بِكَوْنِهِ رَبَيعًا مَثَلًا أَيْ بِالْإِشَارَةِ إلَيْهِ أَوْ لَيْسَ ذَلِكَ تَعْيِّينًا وَحِينَئِذٍ فَالْقِسْمَةُ غَيْرُ صَحِيحَةٍ وَالثَّانِي هُوَ مَا اخْتَارَهُ ابْنُ عَرَفَةَ وَاخْتَار شَيْخْنَا الْعَدْوِي أَنَّهُ تَعْيِينٌ قَوْلُهُ أَوْ نُونِ أَيْ مَضْمُومَةٌ فَهَمْزَةً وَيَجُوزُ قَلَبَ الْهَمْزَةِ يَاءً وَحِينَئِذٍ تَقْلِبُ ضمَّةُ النُّوْنِ الْوَاقِعَةَ قَبْلَهَا كَسْرَةٍ قَوْلْهُ لَا أَكْثَرَ أَيْ                                                                                                                                                                                                                                                                                         \n",
      "لِأَنَّ الْمُدَّةَّ الَّتِي يَقَعُ الْقَبْضُ بَعْدَهَا هُنَا كَالْمُدَّةِ فِي الْإِجَارَةِ فَكَمَا لَا يَجُوزُ إجَارَةُ عَبْدْ مُعَيَّنٍ عَلَى أَنْ يَقْبَضَ بَعْدَ أَكْثَرَ مِنْ شَهْرِ لَا يَجُوزُ فِي الْمُهَايَأَةِ أَنْ يَسْتَعْمَلَهُ بَعْدَ أَكْثَرَ مِنْ شَهْرٍ وَهُنَا كَذَلِكَ وَسَيَأْتِي تَحْقِيقُ ذَلِكَ قَوْلُهُ وَإِلَّا فَسَدَتْ أَيْ وَإِلَّا يُعَينُ الزَّمَانُ فَسَدَتْ كَأَنْ يَتَفَقَّا عَلَى أَنَّ أَحَدَهُمَا يَسْتَعْمِلُهُ مُدَّةً مِنْ الزَّمَانِ وَالْآخَرَ كَذَلِكَ قَوْلُهُ وَيَشْمَلُ الْمُتَعَدَّدُّ أَيْ الْمَقْسُومِ الْمُتَعَدَّدُّ مِنْ الْعُبِيدِ كَعَزَلِ وَجَرَحٍ وَكَفَّرٍ وَسَفُّهِ وَنِكَاحٍ وَضَدَهَا وَإِنْ بِخُلَعِ وَضْرَرٍ زَوْجٍ وَهِبَةٌ وَوَصِيَّةٍ وَوَلَادَةَ وَحَرَابَةً وَإِبَاقٍ وَعَدَمِ وَأَسْرٍ وَعَتَقٍ وَلَوْثْ قَالَ ابْنُ الْقَاسِمِ فِي الَّتِي تُفْتَدِي مِنْ زَوْجْهَا فَيَشْهَدُ لَهَا قَوْمْ بِالسِمَاعِ أَنَّ زَوْجَهَا كَانَ يَضْرُبُهَا فَذَلِكَ جَائِزٌ بِالسَّمَاعِ مِنْ أَهْلِهِ وَمِنْ الْجِيرَانِ وَشَبِهُ ذَلِكَ مِنْ الْأَمْرِ الْفَاشِي\n",
      "فَإِنَّ قَوَّلَ شَرْحِهِ تَوْطِئَةُ لَهُ وَلَا أَثَرَ لِلِانْتِفَاعِ بِالصَّبُغِ الْمُتَنَجِّسِ فِي صَبَغَ شَيْءٍ بِهِ وَإِنْ طَهْرَ الْمَصْبُوغُ بِهِ بِالْغَسْلِ ظَاهِرٌ فِي تَأْيِيدِ مَا كَانَ ظَهَرَ لَنِاَ                                                                                                                                                                                                                                                                                                                                                                                                                                                                  \n",
      "وَهِيَ مَسْأَلَةُ الْخِصَافِ الَّتِي قَالَ فِيهَا بِنُقْضِ الْقِسْمَةِ حَيْثُ ذَكَرَ بِالْوَاوِ وَقَدْ عَلَمَتَهُ                                                                                                                                                                                                                                                                                                                                                                                                                                                                                                                         \n"
     ]
    }
   ],
   "source": [
    "test_file = hf.read_file('live_demo/test_no_diacritics.txt')\n",
    "cleaned_test = hf.clean_dataset(test_file,remove_diacritics=False)\n",
    "test_sentences = split_arabic_sentences(cleaned_test)\n",
    "if os.path.exists('live_demo/test_sentences.txt'):\n",
    "    hf.write_file('live_demo/test_sentences.txt', '')\n",
    "\n",
    "for s in test_sentences:\n",
    "  append_to_file('live_demo/test_sentences.txt',s)\n",
    "  \n",
    "test_gomal = hf.read_file('live_demo/test_sentences.txt')\n",
    "\n",
    "x_test = []\n",
    "for line in test_gomal.splitlines():\n",
    "    x_test.append([char_to_idx[char] for char in line])\n",
    "\n",
    "\n",
    "testeval_dataset = Test_Dataset(x_test, 0)  \n",
    "model_demo = torch.load('models/model.pickle')\n",
    "\n",
    "test_inputs,predictions = test_evaluation(model_demo,testeval_dataset)\n",
    "extract_data_from_id_csv(test_inputs, predictions, id_to_diacritics, idx_to_char)"
   ]
  },
  {
   "cell_type": "code",
   "execution_count": null,
   "metadata": {},
   "outputs": [],
   "source": []
  }
 ],
 "metadata": {
  "kernelspec": {
   "display_name": "Python 3",
   "language": "python",
   "name": "python3"
  },
  "language_info": {
   "codemirror_mode": {
    "name": "ipython",
    "version": 3
   },
   "file_extension": ".py",
   "mimetype": "text/x-python",
   "name": "python",
   "nbconvert_exporter": "python",
   "pygments_lexer": "ipython3",
   "version": "3.10.6"
  }
 },
 "nbformat": 4,
 "nbformat_minor": 2
}
